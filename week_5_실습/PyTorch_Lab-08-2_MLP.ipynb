{
 "cells": [
  {
   "cell_type": "markdown",
   "metadata": {},
   "source": [
    "## <center>Multi Layer Perceptron으로 XOR 문제를 해결</center>   \n",
    "> 단일 퍼셉트론으로는 해결할 수 없었던 XOR 문제를 다중 퍼셉트론으로 해결할 아이디어를 생각해냄   \n",
    "> 그 아이디어를 **back prop**으로 MLP 학습이 가능해지자 XOR 문제를 해결하고, 딥러닝이 크게 발전"
   ]
  },
  {
   "cell_type": "code",
   "execution_count": 1,
   "metadata": {},
   "outputs": [],
   "source": [
    "# Lab 9 XOR\n",
    "import torch"
   ]
  },
  {
   "cell_type": "code",
   "execution_count": 2,
   "metadata": {},
   "outputs": [],
   "source": [
    "device = 'cuda' if torch.cuda.is_available() else 'cpu'\n",
    "\n",
    "# for reproducibility\n",
    "torch.manual_seed(777)\n",
    "if device == 'cuda':\n",
    "    torch.cuda.manual_seed_all(777)"
   ]
  },
  {
   "cell_type": "code",
   "execution_count": 3,
   "metadata": {},
   "outputs": [],
   "source": [
    "X = torch.FloatTensor([[0, 0], [0, 1], [1, 0], [1, 1]]).to(device)\n",
    "Y = torch.FloatTensor([[0], [1], [1], [0]]).to(device)"
   ]
  },
  {
   "cell_type": "code",
   "execution_count": 4,
   "metadata": {},
   "outputs": [],
   "source": [
    "# nn layers\n",
    "linear1 = torch.nn.Linear(2, 2, bias=True) # layer를 여러개 이용\n",
    "linear2 = torch.nn.Linear(2, 1, bias=True)\n",
    "sigmoid = torch.nn.Sigmoid()"
   ]
  },
  {
   "cell_type": "code",
   "execution_count": 5,
   "metadata": {},
   "outputs": [],
   "source": [
    "# model\n",
    "model = torch.nn.Sequential(linear1, sigmoid, linear2, sigmoid).to(device) # 레이어 중간에 활성화 함수를 넣어줌"
   ]
  },
  {
   "cell_type": "code",
   "execution_count": 6,
   "metadata": {},
   "outputs": [],
   "source": [
    "# define cost/loss & optimizer\n",
    "criterion = torch.nn.BCELoss().to(device) # binary CE를 이용.\n",
    "optimizer = torch.optim.SGD(model.parameters(), lr=1)  # modified learning rate from 0.1 to 1"
   ]
  },
  {
   "cell_type": "code",
   "execution_count": 7,
   "metadata": {},
   "outputs": [
    {
     "name": "stdout",
     "output_type": "stream",
     "text": [
      "0 0.7434073090553284\n",
      "100 0.6931650638580322\n",
      "200 0.6931577920913696\n",
      "300 0.6931517124176025\n",
      "400 0.6931463479995728\n",
      "500 0.6931411027908325\n",
      "600 0.693135678768158\n",
      "700 0.6931295394897461\n",
      "800 0.693122148513794\n",
      "900 0.6931126713752747\n",
      "1000 0.6930999755859375\n",
      "1100 0.693082332611084\n",
      "1200 0.6930568814277649\n",
      "1300 0.6930190920829773\n",
      "1400 0.6929606199264526\n",
      "1500 0.6928659677505493\n",
      "1600 0.6927032470703125\n",
      "1700 0.6923960447311401\n",
      "1800 0.6917301416397095\n",
      "1900 0.6899654865264893\n",
      "2000 0.6838318109512329\n",
      "2100 0.6561676263809204\n",
      "2200 0.4311096668243408\n",
      "2300 0.1348954439163208\n",
      "2400 0.0663050040602684\n",
      "2500 0.04216844588518143\n",
      "2600 0.03045402094721794\n",
      "2700 0.02366602048277855\n",
      "2800 0.019277796149253845\n",
      "2900 0.01622406765818596\n",
      "3000 0.013983823359012604\n",
      "3100 0.012273991480469704\n",
      "3200 0.010928178206086159\n",
      "3300 0.009842487052083015\n",
      "3400 0.008949032984673977\n",
      "3500 0.008201336488127708\n",
      "3600 0.007566767744719982\n",
      "3700 0.007021686062216759\n",
      "3800 0.006548595614731312\n",
      "3900 0.006134253926575184\n",
      "4000 0.005768374539911747\n",
      "4100 0.0054430365562438965\n",
      "4200 0.005151890218257904\n",
      "4300 0.0048899175599217415\n",
      "4400 0.004652872681617737\n",
      "4500 0.004437457304447889\n",
      "4600 0.004240859299898148\n",
      "4700 0.00406070239841938\n",
      "4800 0.0038950315210968256\n",
      "4900 0.003742194501683116\n",
      "5000 0.003600734518840909\n",
      "5100 0.0034694799687713385\n",
      "5200 0.0033473046496510506\n",
      "5300 0.0032333978451788425\n",
      "5400 0.0031268750317394733\n",
      "5500 0.0030270610004663467\n",
      "5600 0.002933340147137642\n",
      "5700 0.0028452035039663315\n",
      "5800 0.002762140706181526\n",
      "5900 0.0026837773621082306\n",
      "6000 0.0026096487417817116\n",
      "6100 0.0025394847616553307\n",
      "6200 0.0024729417636990547\n",
      "6300 0.0024097643326967955\n",
      "6400 0.0023497282527387142\n",
      "6500 0.0022925485391169786\n",
      "6600 0.002238075714558363\n",
      "6700 0.002186085097491741\n",
      "6800 0.0021364721469581127\n",
      "6900 0.002089011948555708\n",
      "7000 0.0020436146296560764\n",
      "7100 0.0020001311786472797\n",
      "7200 0.0019584116525948048\n",
      "7300 0.0019184107659384608\n",
      "7400 0.0018799942918121815\n",
      "7500 0.0018430722411721945\n",
      "7600 0.0018075400730594993\n",
      "7700 0.0017733527347445488\n",
      "7800 0.0017404207028448582\n",
      "7900 0.0017087138257920742\n",
      "8000 0.001678097527474165\n",
      "8100 0.0016485570231452584\n",
      "8200 0.001620002556592226\n",
      "8300 0.0015924491453915834\n",
      "8400 0.0015657917829230428\n",
      "8500 0.0015400308184325695\n",
      "8600 0.0015150615945458412\n",
      "8700 0.001490913680754602\n",
      "8800 0.0014674977865070105\n",
      "8900 0.001444813678972423\n",
      "9000 0.0014228166546672583\n",
      "9100 0.0014014765620231628\n",
      "9200 0.0013806892093271017\n",
      "9300 0.0013606036081910133\n",
      "9400 0.0013410557294264436\n",
      "9500 0.001322030322626233\n",
      "9600 0.001303557539358735\n",
      "9700 0.001285637030377984\n",
      "9800 0.0012681199004873633\n",
      "9900 0.0012511102249845862\n",
      "10000 0.0012345188297331333\n"
     ]
    }
   ],
   "source": [
    "for step in range(10001):\n",
    "    optimizer.zero_grad()\n",
    "    hypothesis = model(X)\n",
    "\n",
    "    # cost/loss function\n",
    "    cost = criterion(hypothesis, Y)\n",
    "    cost.backward()\n",
    "    optimizer.step()\n",
    "\n",
    "    if step % 100 == 0:\n",
    "        print(step, cost.item())"
   ]
  },
  {
   "cell_type": "code",
   "execution_count": 8,
   "metadata": {},
   "outputs": [
    {
     "name": "stdout",
     "output_type": "stream",
     "text": [
      "\n",
      "Hypothesis:  [[0.00106364]\n",
      " [0.99889404]\n",
      " [0.99889404]\n",
      " [0.00165861]] \n",
      "Correct:  [[0.]\n",
      " [1.]\n",
      " [1.]\n",
      " [0.]] \n",
      "Accuracy:  1.0\n"
     ]
    }
   ],
   "source": [
    "# Accuracy computation\n",
    "# True if hypothesis>0.5 else False\n",
    "with torch.no_grad():\n",
    "    hypothesis = model(X)\n",
    "    predicted = (hypothesis > 0.5).float()\n",
    "    accuracy = (predicted == Y).float().mean()\n",
    "    print('\\nHypothesis: ', hypothesis.detach().cpu().numpy(), '\\nCorrect: ', predicted.detach().cpu().numpy(), '\\nAccuracy: ', accuracy.item())"
   ]
  },
  {
   "cell_type": "markdown",
   "metadata": {},
   "source": [
    "## 단일 퍼셉트론으로는 해결못했던 XOR문제를 accuracy 1로 완벽히 해결함\n",
    "### 실제로 layer를 더 추가할수록 cost값이 더욱 작아짐\n",
    "[backprop 코드 구현](https://github.com/deeplearningzerotoall/PyTorch/blob/master/lab-08_4_mnist_back_prop.ipynb) "
   ]
  }
 ],
 "metadata": {
  "kernelspec": {
   "display_name": "Python 3",
   "language": "python",
   "name": "python3"
  },
  "language_info": {
   "codemirror_mode": {
    "name": "ipython",
    "version": 3
   },
   "file_extension": ".py",
   "mimetype": "text/x-python",
   "name": "python",
   "nbconvert_exporter": "python",
   "pygments_lexer": "ipython3",
   "version": "3.7.7"
  }
 },
 "nbformat": 4,
 "nbformat_minor": 1
}
