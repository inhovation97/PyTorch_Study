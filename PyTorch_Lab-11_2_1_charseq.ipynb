{
 "cells": [
  {
   "cell_type": "code",
   "execution_count": 1,
   "metadata": {},
   "outputs": [],
   "source": [
    "import torch\n",
    "import torch.optim as optim\n",
    "import numpy as np"
   ]
  },
  {
   "cell_type": "code",
   "execution_count": 2,
   "metadata": {
    "scrolled": true
   },
   "outputs": [
    {
     "data": {
      "text/plain": [
       "<torch._C.Generator at 0x2a06ae65a70>"
      ]
     },
     "execution_count": 2,
     "metadata": {},
     "output_type": "execute_result"
    }
   ],
   "source": [
    "torch.manual_seed(0)"
   ]
  },
  {
   "cell_type": "markdown",
   "metadata": {},
   "source": [
    "## \" if you want you\"를 split해서 입력값과 레이블 값을 만들어야함\n",
    "i를 넣으면 f를 예측하는 rnn 모델에 맞게 x 데이터를 'i'부터 'o'까지 정의하고,   \n",
    "y 데이터를 'f'부터 'u'까지로 정의해야 함."
   ]
  },
  {
   "cell_type": "code",
   "execution_count": 3,
   "metadata": {},
   "outputs": [],
   "source": [
    "sample = \" if you want you\""
   ]
  },
  {
   "cell_type": "code",
   "execution_count": 4,
   "metadata": {},
   "outputs": [
    {
     "data": {
      "text/plain": [
       "{'y': 0,\n",
       " ' ': 1,\n",
       " 'f': 2,\n",
       " 'n': 3,\n",
       " 't': 4,\n",
       " 'o': 5,\n",
       " 'u': 6,\n",
       " 'a': 7,\n",
       " 'w': 8,\n",
       " 'i': 9}"
      ]
     },
     "execution_count": 4,
     "metadata": {},
     "output_type": "execute_result"
    }
   ],
   "source": [
    "# 딕셔너리로 만들기\n",
    "char_set = list(set(sample)) # 집합 리스트로 만들기\n",
    "char_dic = {c: i for i, c in enumerate(char_set)} # 딕셔너리 형태로 만들기\n",
    "char_dic"
   ]
  },
  {
   "cell_type": "code",
   "execution_count": 5,
   "metadata": {},
   "outputs": [],
   "source": [
    "# 하이퍼 파라미터\n",
    "dic_size = len(char_dic)\n",
    "hidden_size = len(char_dic)\n",
    "learning_rate = 0.1"
   ]
  },
  {
   "cell_type": "code",
   "execution_count": 7,
   "metadata": {},
   "outputs": [],
   "source": [
    "# 데이터 세팅\n",
    "# 함수 eye는 아이덴티티 벡터로 만들어 원핫 인코딩을 할 수있음\n",
    "\n",
    "\n",
    "# x값 정의\n",
    "sample_idx = [char_dic[c] for c in sample] # 인덱스 자리 값 -> 라벨 값으로 이용가능\n",
    "x_data = [sample_idx[:-1]]\n",
    "x_one_hot = [np.eye(dic_size)[x] for x in x_data] # 원-핫 인코딩\n",
    "\n",
    "\n",
    "# y값 정의\n",
    "y_data = [sample_idx[1:]]"
   ]
  },
  {
   "cell_type": "code",
   "execution_count": 8,
   "metadata": {},
   "outputs": [],
   "source": [
    "# 텐서 변환\n",
    "X = torch.FloatTensor(x_one_hot)\n",
    "Y = torch.LongTensor(y_data)"
   ]
  },
  {
   "cell_type": "code",
   "execution_count": 9,
   "metadata": {},
   "outputs": [],
   "source": [
    "rnn = torch.nn.RNN(dic_size, hidden_size, batch_first=True) # (input size, hidden_size, batch)"
   ]
  },
  {
   "cell_type": "code",
   "execution_count": 10,
   "metadata": {},
   "outputs": [],
   "source": [
    "criterion = torch.nn.CrossEntropyLoss()\n",
    "optimizer = optim.Adam(rnn.parameters(), learning_rate)"
   ]
  },
  {
   "cell_type": "code",
   "execution_count": 11,
   "metadata": {
    "scrolled": true
   },
   "outputs": [
    {
     "name": "stdout",
     "output_type": "stream",
     "text": [
      "0 loss:  2.2817206382751465 prediction:  [[8 7 8 8 7 7 7 8 7 0 7 7 5 5 7]] true Y:  [[9, 2, 1, 0, 5, 6, 1, 8, 7, 3, 4, 1, 0, 5, 6]] prediction str:  wawwaaawayaaooa\n",
      "1 loss:  1.9530446529388428 prediction:  [[8 1 1 3 5 6 1 8 7 1 1 1 6 5 6]] true Y:  [[9, 2, 1, 0, 5, 6, 1, 8, 7, 3, 4, 1, 0, 5, 6]] prediction str:  w  nou wa   uou\n",
      "2 loss:  1.7438799142837524 prediction:  [[8 5 1 6 5 6 1 8 7 6 4 1 5 5 6]] true Y:  [[9, 2, 1, 0, 5, 6, 1, 8, 7, 3, 4, 1, 0, 5, 6]] prediction str:  wo uou waut oou\n",
      "3 loss:  1.587290644645691 prediction:  [[8 4 1 0 5 6 4 8 7 6 4 1 0 5 6]] true Y:  [[9, 2, 1, 0, 5, 6, 1, 8, 7, 3, 4, 1, 0, 5, 6]] prediction str:  wt youtwaut you\n",
      "4 loss:  1.4639290571212769 prediction:  [[8 2 1 0 5 6 4 8 7 6 4 1 0 5 6]] true Y:  [[9, 2, 1, 0, 5, 6, 1, 8, 7, 3, 4, 1, 0, 5, 6]] prediction str:  wf youtwaut you\n",
      "5 loss:  1.3607195615768433 prediction:  [[8 2 1 0 5 6 1 8 7 1 4 1 0 5 6]] true Y:  [[9, 2, 1, 0, 5, 6, 1, 8, 7, 3, 4, 1, 0, 5, 6]] prediction str:  wf you wa t you\n",
      "6 loss:  1.2615854740142822 prediction:  [[9 2 1 0 5 6 1 8 7 1 4 1 0 5 6]] true Y:  [[9, 2, 1, 0, 5, 6, 1, 8, 7, 3, 4, 1, 0, 5, 6]] prediction str:  if you wa t you\n",
      "7 loss:  1.1934762001037598 prediction:  [[9 2 1 0 5 6 1 8 7 1 4 1 0 5 6]] true Y:  [[9, 2, 1, 0, 5, 6, 1, 8, 7, 3, 4, 1, 0, 5, 6]] prediction str:  if you wa t you\n",
      "8 loss:  1.1295514106750488 prediction:  [[9 2 1 0 5 6 1 8 7 1 4 1 0 5 6]] true Y:  [[9, 2, 1, 0, 5, 6, 1, 8, 7, 3, 4, 1, 0, 5, 6]] prediction str:  if you wa t you\n",
      "9 loss:  1.078391671180725 prediction:  [[9 2 1 0 5 6 1 8 7 1 4 1 0 5 6]] true Y:  [[9, 2, 1, 0, 5, 6, 1, 8, 7, 3, 4, 1, 0, 5, 6]] prediction str:  if you wa t you\n",
      "10 loss:  1.0401391983032227 prediction:  [[9 2 1 0 5 6 1 8 7 1 4 1 0 5 6]] true Y:  [[9, 2, 1, 0, 5, 6, 1, 8, 7, 3, 4, 1, 0, 5, 6]] prediction str:  if you wa t you\n",
      "11 loss:  1.0084282159805298 prediction:  [[9 2 1 0 5 6 1 8 7 1 4 1 0 5 6]] true Y:  [[9, 2, 1, 0, 5, 6, 1, 8, 7, 3, 4, 1, 0, 5, 6]] prediction str:  if you wa t you\n",
      "12 loss:  0.9781673550605774 prediction:  [[9 2 1 0 5 6 1 8 7 1 4 1 0 5 6]] true Y:  [[9, 2, 1, 0, 5, 6, 1, 8, 7, 3, 4, 1, 0, 5, 6]] prediction str:  if you wa t you\n",
      "13 loss:  0.9587522149085999 prediction:  [[9 2 1 0 5 6 1 8 7 1 4 1 0 5 6]] true Y:  [[9, 2, 1, 0, 5, 6, 1, 8, 7, 3, 4, 1, 0, 5, 6]] prediction str:  if you wa t you\n",
      "14 loss:  0.9431474208831787 prediction:  [[9 2 1 0 5 6 1 8 7 1 4 1 0 5 6]] true Y:  [[9, 2, 1, 0, 5, 6, 1, 8, 7, 3, 4, 1, 0, 5, 6]] prediction str:  if you wa t you\n",
      "15 loss:  0.9287629723548889 prediction:  [[9 2 1 0 5 6 1 8 7 1 4 1 0 5 6]] true Y:  [[9, 2, 1, 0, 5, 6, 1, 8, 7, 3, 4, 1, 0, 5, 6]] prediction str:  if you wa t you\n",
      "16 loss:  0.9169829487800598 prediction:  [[9 2 1 0 5 6 1 8 7 1 4 1 0 5 6]] true Y:  [[9, 2, 1, 0, 5, 6, 1, 8, 7, 3, 4, 1, 0, 5, 6]] prediction str:  if you wa t you\n",
      "17 loss:  0.9079627990722656 prediction:  [[9 2 1 0 5 6 1 8 7 1 4 1 0 5 6]] true Y:  [[9, 2, 1, 0, 5, 6, 1, 8, 7, 3, 4, 1, 0, 5, 6]] prediction str:  if you wa t you\n",
      "18 loss:  0.9015474319458008 prediction:  [[9 2 1 0 5 6 1 8 7 1 4 1 0 5 6]] true Y:  [[9, 2, 1, 0, 5, 6, 1, 8, 7, 3, 4, 1, 0, 5, 6]] prediction str:  if you wa t you\n",
      "19 loss:  0.8963230848312378 prediction:  [[9 2 1 0 5 6 1 8 7 1 4 1 0 5 6]] true Y:  [[9, 2, 1, 0, 5, 6, 1, 8, 7, 3, 4, 1, 0, 5, 6]] prediction str:  if you wa t you\n",
      "20 loss:  0.8912160992622375 prediction:  [[9 2 1 0 5 6 1 8 7 1 4 1 0 5 6]] true Y:  [[9, 2, 1, 0, 5, 6, 1, 8, 7, 3, 4, 1, 0, 5, 6]] prediction str:  if you wa t you\n",
      "21 loss:  0.8870612978935242 prediction:  [[9 2 1 0 5 6 1 8 7 1 4 1 0 5 6]] true Y:  [[9, 2, 1, 0, 5, 6, 1, 8, 7, 3, 4, 1, 0, 5, 6]] prediction str:  if you wa t you\n",
      "22 loss:  0.8841726183891296 prediction:  [[9 2 1 0 5 6 1 8 7 1 4 1 0 5 6]] true Y:  [[9, 2, 1, 0, 5, 6, 1, 8, 7, 3, 4, 1, 0, 5, 6]] prediction str:  if you wa t you\n",
      "23 loss:  0.8810771703720093 prediction:  [[9 2 1 0 5 6 1 8 7 1 4 1 0 5 6]] true Y:  [[9, 2, 1, 0, 5, 6, 1, 8, 7, 3, 4, 1, 0, 5, 6]] prediction str:  if you wa t you\n",
      "24 loss:  0.8783375024795532 prediction:  [[9 2 1 0 5 6 1 8 7 1 4 1 0 5 6]] true Y:  [[9, 2, 1, 0, 5, 6, 1, 8, 7, 3, 4, 1, 0, 5, 6]] prediction str:  if you wa t you\n",
      "25 loss:  0.8762883543968201 prediction:  [[9 2 1 0 5 6 1 8 7 1 4 1 0 5 6]] true Y:  [[9, 2, 1, 0, 5, 6, 1, 8, 7, 3, 4, 1, 0, 5, 6]] prediction str:  if you wa t you\n",
      "26 loss:  0.8742283582687378 prediction:  [[9 2 1 0 5 6 1 8 7 1 4 1 0 5 6]] true Y:  [[9, 2, 1, 0, 5, 6, 1, 8, 7, 3, 4, 1, 0, 5, 6]] prediction str:  if you wa t you\n",
      "27 loss:  0.8721789121627808 prediction:  [[9 2 1 0 5 6 1 8 7 1 4 1 0 5 6]] true Y:  [[9, 2, 1, 0, 5, 6, 1, 8, 7, 3, 4, 1, 0, 5, 6]] prediction str:  if you wa t you\n",
      "28 loss:  0.8705558180809021 prediction:  [[9 2 1 0 5 6 1 8 7 1 4 1 0 5 6]] true Y:  [[9, 2, 1, 0, 5, 6, 1, 8, 7, 3, 4, 1, 0, 5, 6]] prediction str:  if you wa t you\n",
      "29 loss:  0.8691132664680481 prediction:  [[9 2 1 0 5 6 1 8 7 1 4 1 0 5 6]] true Y:  [[9, 2, 1, 0, 5, 6, 1, 8, 7, 3, 4, 1, 0, 5, 6]] prediction str:  if you wa t you\n",
      "30 loss:  0.867454469203949 prediction:  [[9 2 1 0 5 6 1 8 7 1 4 1 0 5 6]] true Y:  [[9, 2, 1, 0, 5, 6, 1, 8, 7, 3, 4, 1, 0, 5, 6]] prediction str:  if you wa t you\n",
      "31 loss:  0.8659883141517639 prediction:  [[9 2 1 0 5 6 1 8 7 1 4 1 0 5 6]] true Y:  [[9, 2, 1, 0, 5, 6, 1, 8, 7, 3, 4, 1, 0, 5, 6]] prediction str:  if you wa t you\n",
      "32 loss:  0.8647392988204956 prediction:  [[9 2 1 0 5 6 1 8 7 1 4 1 0 5 6]] true Y:  [[9, 2, 1, 0, 5, 6, 1, 8, 7, 3, 4, 1, 0, 5, 6]] prediction str:  if you wa t you\n",
      "33 loss:  0.8634628653526306 prediction:  [[9 2 1 0 5 6 1 8 7 1 4 1 0 5 6]] true Y:  [[9, 2, 1, 0, 5, 6, 1, 8, 7, 3, 4, 1, 0, 5, 6]] prediction str:  if you wa t you\n",
      "34 loss:  0.8622992038726807 prediction:  [[9 2 1 0 5 6 1 8 7 1 4 1 0 5 6]] true Y:  [[9, 2, 1, 0, 5, 6, 1, 8, 7, 3, 4, 1, 0, 5, 6]] prediction str:  if you wa t you\n",
      "35 loss:  0.8614729046821594 prediction:  [[9 2 1 0 5 6 1 8 7 1 4 1 0 5 6]] true Y:  [[9, 2, 1, 0, 5, 6, 1, 8, 7, 3, 4, 1, 0, 5, 6]] prediction str:  if you wa t you\n",
      "36 loss:  0.860656201839447 prediction:  [[9 2 1 0 5 6 1 8 7 1 4 1 0 5 6]] true Y:  [[9, 2, 1, 0, 5, 6, 1, 8, 7, 3, 4, 1, 0, 5, 6]] prediction str:  if you wa t you\n",
      "37 loss:  0.8599197268486023 prediction:  [[9 2 1 0 5 6 1 8 7 1 4 1 0 5 6]] true Y:  [[9, 2, 1, 0, 5, 6, 1, 8, 7, 3, 4, 1, 0, 5, 6]] prediction str:  if you wa t you\n",
      "38 loss:  0.8593264222145081 prediction:  [[9 2 1 0 5 6 1 8 7 1 4 1 0 5 6]] true Y:  [[9, 2, 1, 0, 5, 6, 1, 8, 7, 3, 4, 1, 0, 5, 6]] prediction str:  if you wa t you\n",
      "39 loss:  0.8586124181747437 prediction:  [[9 2 1 0 5 6 1 8 7 1 4 1 0 5 6]] true Y:  [[9, 2, 1, 0, 5, 6, 1, 8, 7, 3, 4, 1, 0, 5, 6]] prediction str:  if you wa t you\n",
      "40 loss:  0.8579017519950867 prediction:  [[9 2 1 0 5 6 1 8 7 1 4 1 0 5 6]] true Y:  [[9, 2, 1, 0, 5, 6, 1, 8, 7, 3, 4, 1, 0, 5, 6]] prediction str:  if you wa t you\n",
      "41 loss:  0.8572720885276794 prediction:  [[9 2 1 0 5 6 1 8 7 1 4 1 0 5 6]] true Y:  [[9, 2, 1, 0, 5, 6, 1, 8, 7, 3, 4, 1, 0, 5, 6]] prediction str:  if you wa t you\n",
      "42 loss:  0.8565385341644287 prediction:  [[9 2 1 0 5 6 1 8 7 1 4 1 0 5 6]] true Y:  [[9, 2, 1, 0, 5, 6, 1, 8, 7, 3, 4, 1, 0, 5, 6]] prediction str:  if you wa t you\n",
      "43 loss:  0.8558789491653442 prediction:  [[9 2 1 0 5 6 1 8 7 1 4 1 0 5 6]] true Y:  [[9, 2, 1, 0, 5, 6, 1, 8, 7, 3, 4, 1, 0, 5, 6]] prediction str:  if you wa t you\n",
      "44 loss:  0.8552046418190002 prediction:  [[9 2 1 0 5 6 1 8 7 1 4 1 0 5 6]] true Y:  [[9, 2, 1, 0, 5, 6, 1, 8, 7, 3, 4, 1, 0, 5, 6]] prediction str:  if you wa t you\n",
      "45 loss:  0.8543552756309509 prediction:  [[9 2 1 0 5 6 1 8 7 1 4 1 0 5 6]] true Y:  [[9, 2, 1, 0, 5, 6, 1, 8, 7, 3, 4, 1, 0, 5, 6]] prediction str:  if you wa t you\n",
      "46 loss:  0.8533172011375427 prediction:  [[9 2 1 0 5 6 1 8 7 1 4 1 0 5 6]] true Y:  [[9, 2, 1, 0, 5, 6, 1, 8, 7, 3, 4, 1, 0, 5, 6]] prediction str:  if you wa t you\n",
      "47 loss:  0.8517735600471497 prediction:  [[9 2 1 0 5 6 1 8 7 1 4 1 0 5 6]] true Y:  [[9, 2, 1, 0, 5, 6, 1, 8, 7, 3, 4, 1, 0, 5, 6]] prediction str:  if you wa t you\n",
      "48 loss:  0.8492239117622375 prediction:  [[9 2 1 0 5 6 1 8 7 1 4 1 0 5 6]] true Y:  [[9, 2, 1, 0, 5, 6, 1, 8, 7, 3, 4, 1, 0, 5, 6]] prediction str:  if you wa t you\n",
      "49 loss:  0.8455283641815186 prediction:  [[9 2 1 0 5 6 1 8 7 1 4 1 0 5 6]] true Y:  [[9, 2, 1, 0, 5, 6, 1, 8, 7, 3, 4, 1, 0, 5, 6]] prediction str:  if you wa t you\n"
     ]
    }
   ],
   "source": [
    "for i in range(50):\n",
    "    optimizer.zero_grad() # 계산된 기울기 초기화\n",
    "    outputs, _status = rnn(X) # rnn에 x 입력\n",
    "    loss = criterion(outputs.view(-1, dic_size), Y.view(-1)) # loss 계산\n",
    "    loss.backward()\n",
    "    optimizer.step()\n",
    "    \n",
    "    result = outputs.data.numpy().argmax(axis=2) # ouput에서 가장 확률이 높은 값을 결과로 추출\n",
    "    result_str = ''.join([char_set[c] for c in np.squeeze(result)])\n",
    "    print(i, \"loss: \", loss.item(), \"prediction: \", result, \"true Y: \", y_data, \"prediction str: \", result_str)"
   ]
  },
  {
   "cell_type": "code",
   "execution_count": 12,
   "metadata": {},
   "outputs": [
    {
     "data": {
      "text/plain": [
       "(1, 15, 10)"
      ]
     },
     "execution_count": 12,
     "metadata": {},
     "output_type": "execute_result"
    }
   ],
   "source": [
    "outputs.data.numpy().shape # axis=2가 각 문자의 확률 값"
   ]
  }
 ],
 "metadata": {
  "kernelspec": {
   "display_name": "Python 3",
   "language": "python",
   "name": "python3"
  },
  "language_info": {
   "codemirror_mode": {
    "name": "ipython",
    "version": 3
   },
   "file_extension": ".py",
   "mimetype": "text/x-python",
   "name": "python",
   "nbconvert_exporter": "python",
   "pygments_lexer": "ipython3",
   "version": "3.7.7"
  }
 },
 "nbformat": 4,
 "nbformat_minor": 4
}
