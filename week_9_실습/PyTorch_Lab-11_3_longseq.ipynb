{
 "cells": [
  {
   "cell_type": "markdown",
   "metadata": {},
   "source": [
    "# RNN을 이용해서 긴 문장값을 예측하기 -> many to many\n",
    "> 입력값을 10 시퀀스로 잘라서 x, y 데이터를 만들고, rnn에 넣어 문장 예측"
   ]
  },
  {
   "cell_type": "code",
   "execution_count": 1,
   "metadata": {},
   "outputs": [],
   "source": [
    "import torch\n",
    "import torch.optim as optim\n",
    "import numpy as np"
   ]
  },
  {
   "cell_type": "code",
   "execution_count": 2,
   "metadata": {},
   "outputs": [
    {
     "data": {
      "text/plain": [
       "<torch._C.Generator at 0x1f97ffb7a70>"
      ]
     },
     "execution_count": 2,
     "metadata": {},
     "output_type": "execute_result"
    }
   ],
   "source": [
    "# Random seed to make results deterministic and reproducible\n",
    "torch.manual_seed(0)"
   ]
  },
  {
   "cell_type": "code",
   "execution_count": 3,
   "metadata": {},
   "outputs": [],
   "source": [
    "sentence = (\"if you want to build a ship, don't drum up people together to \"\n",
    "            \"collect wood and don't assign them tasks and work, but rather \"\n",
    "            \"teach them to long for the endless immensity of the sea.\")"
   ]
  },
  {
   "cell_type": "code",
   "execution_count": 4,
   "metadata": {},
   "outputs": [],
   "source": [
    "# make dictionary\n",
    "char_set = list(set(sentence))\n",
    "char_dic = {c: i for i, c in enumerate(char_set)}"
   ]
  },
  {
   "cell_type": "code",
   "execution_count": 5,
   "metadata": {},
   "outputs": [],
   "source": [
    "# hyper parameters\n",
    "dic_size = len(char_dic)\n",
    "hidden_size = len(char_dic)\n",
    "sequence_length = 10  # Any arbitrary number\n",
    "learning_rate = 0.1"
   ]
  },
  {
   "cell_type": "code",
   "execution_count": 6,
   "metadata": {},
   "outputs": [
    {
     "name": "stdout",
     "output_type": "stream",
     "text": [
      "캐릭터 개수: 25 \n",
      "문장 시퀀스 개수: 180\n"
     ]
    }
   ],
   "source": [
    "# 캐릭터 개수\n",
    "print(\"캐릭터 개수:\", dic_size, \"\\n문장 시퀀스 개수:\", len(sentence))"
   ]
  },
  {
   "cell_type": "code",
   "execution_count": 7,
   "metadata": {},
   "outputs": [
    {
     "name": "stdout",
     "output_type": "stream",
     "text": [
      "0 if you wan -> f you want\n",
      "1 f you want ->  you want \n",
      "2  you want  -> you want t\n",
      "3 you want t -> ou want to\n",
      "4 ou want to -> u want to \n",
      "5 u want to  ->  want to b\n",
      "6  want to b -> want to bu\n",
      "7 want to bu -> ant to bui\n",
      "8 ant to bui -> nt to buil\n",
      "9 nt to buil -> t to build\n",
      "10 t to build ->  to build \n",
      "11  to build  -> to build a\n",
      "12 to build a -> o build a \n",
      "13 o build a  ->  build a s\n",
      "14  build a s -> build a sh\n",
      "15 build a sh -> uild a shi\n",
      "16 uild a shi -> ild a ship\n",
      "17 ild a ship -> ld a ship,\n",
      "18 ld a ship, -> d a ship, \n",
      "19 d a ship,  ->  a ship, d\n",
      "20  a ship, d -> a ship, do\n",
      "21 a ship, do ->  ship, don\n",
      "22  ship, don -> ship, don'\n",
      "23 ship, don' -> hip, don't\n",
      "24 hip, don't -> ip, don't \n",
      "25 ip, don't  -> p, don't d\n",
      "26 p, don't d -> , don't dr\n",
      "27 , don't dr ->  don't dru\n",
      "28  don't dru -> don't drum\n",
      "29 don't drum -> on't drum \n",
      "30 on't drum  -> n't drum u\n",
      "31 n't drum u -> 't drum up\n",
      "32 't drum up -> t drum up \n",
      "33 t drum up  ->  drum up p\n",
      "34  drum up p -> drum up pe\n",
      "35 drum up pe -> rum up peo\n",
      "36 rum up peo -> um up peop\n",
      "37 um up peop -> m up peopl\n",
      "38 m up peopl ->  up people\n",
      "39  up people -> up people \n",
      "40 up people  -> p people t\n",
      "41 p people t ->  people to\n",
      "42  people to -> people tog\n",
      "43 people tog -> eople toge\n",
      "44 eople toge -> ople toget\n",
      "45 ople toget -> ple togeth\n",
      "46 ple togeth -> le togethe\n",
      "47 le togethe -> e together\n",
      "48 e together ->  together \n",
      "49  together  -> together t\n",
      "50 together t -> ogether to\n",
      "51 ogether to -> gether to \n",
      "52 gether to  -> ether to c\n",
      "53 ether to c -> ther to co\n",
      "54 ther to co -> her to col\n",
      "55 her to col -> er to coll\n",
      "56 er to coll -> r to colle\n",
      "57 r to colle ->  to collec\n",
      "58  to collec -> to collect\n",
      "59 to collect -> o collect \n",
      "60 o collect  ->  collect w\n",
      "61  collect w -> collect wo\n",
      "62 collect wo -> ollect woo\n",
      "63 ollect woo -> llect wood\n",
      "64 llect wood -> lect wood \n",
      "65 lect wood  -> ect wood a\n",
      "66 ect wood a -> ct wood an\n",
      "67 ct wood an -> t wood and\n",
      "68 t wood and ->  wood and \n",
      "69  wood and  -> wood and d\n",
      "70 wood and d -> ood and do\n",
      "71 ood and do -> od and don\n",
      "72 od and don -> d and don'\n",
      "73 d and don' ->  and don't\n",
      "74  and don't -> and don't \n",
      "75 and don't  -> nd don't a\n",
      "76 nd don't a -> d don't as\n",
      "77 d don't as ->  don't ass\n",
      "78  don't ass -> don't assi\n",
      "79 don't assi -> on't assig\n",
      "80 on't assig -> n't assign\n",
      "81 n't assign -> 't assign \n",
      "82 't assign  -> t assign t\n",
      "83 t assign t ->  assign th\n",
      "84  assign th -> assign the\n",
      "85 assign the -> ssign them\n",
      "86 ssign them -> sign them \n",
      "87 sign them  -> ign them t\n",
      "88 ign them t -> gn them ta\n",
      "89 gn them ta -> n them tas\n",
      "90 n them tas ->  them task\n",
      "91  them task -> them tasks\n",
      "92 them tasks -> hem tasks \n",
      "93 hem tasks  -> em tasks a\n",
      "94 em tasks a -> m tasks an\n",
      "95 m tasks an ->  tasks and\n",
      "96  tasks and -> tasks and \n",
      "97 tasks and  -> asks and w\n",
      "98 asks and w -> sks and wo\n",
      "99 sks and wo -> ks and wor\n",
      "100 ks and wor -> s and work\n",
      "101 s and work ->  and work,\n",
      "102  and work, -> and work, \n",
      "103 and work,  -> nd work, b\n",
      "104 nd work, b -> d work, bu\n",
      "105 d work, bu ->  work, but\n",
      "106  work, but -> work, but \n",
      "107 work, but  -> ork, but r\n",
      "108 ork, but r -> rk, but ra\n",
      "109 rk, but ra -> k, but rat\n",
      "110 k, but rat -> , but rath\n",
      "111 , but rath ->  but rathe\n",
      "112  but rathe -> but rather\n",
      "113 but rather -> ut rather \n",
      "114 ut rather  -> t rather t\n",
      "115 t rather t ->  rather te\n",
      "116  rather te -> rather tea\n",
      "117 rather tea -> ather teac\n",
      "118 ather teac -> ther teach\n",
      "119 ther teach -> her teach \n",
      "120 her teach  -> er teach t\n",
      "121 er teach t -> r teach th\n",
      "122 r teach th ->  teach the\n",
      "123  teach the -> teach them\n",
      "124 teach them -> each them \n",
      "125 each them  -> ach them t\n",
      "126 ach them t -> ch them to\n",
      "127 ch them to -> h them to \n",
      "128 h them to  ->  them to l\n",
      "129  them to l -> them to lo\n",
      "130 them to lo -> hem to lon\n",
      "131 hem to lon -> em to long\n",
      "132 em to long -> m to long \n",
      "133 m to long  ->  to long f\n",
      "134  to long f -> to long fo\n",
      "135 to long fo -> o long for\n",
      "136 o long for ->  long for \n",
      "137  long for  -> long for t\n",
      "138 long for t -> ong for th\n",
      "139 ong for th -> ng for the\n",
      "140 ng for the -> g for the \n",
      "141 g for the  ->  for the e\n",
      "142  for the e -> for the en\n",
      "143 for the en -> or the end\n",
      "144 or the end -> r the endl\n",
      "145 r the endl ->  the endle\n",
      "146  the endle -> the endles\n",
      "147 the endles -> he endless\n",
      "148 he endless -> e endless \n",
      "149 e endless  ->  endless i\n",
      "150  endless i -> endless im\n",
      "151 endless im -> ndless imm\n",
      "152 ndless imm -> dless imme\n",
      "153 dless imme -> less immen\n",
      "154 less immen -> ess immens\n",
      "155 ess immens -> ss immensi\n",
      "156 ss immensi -> s immensit\n",
      "157 s immensit ->  immensity\n",
      "158  immensity -> immensity \n",
      "159 immensity  -> mmensity o\n",
      "160 mmensity o -> mensity of\n",
      "161 mensity of -> ensity of \n",
      "162 ensity of  -> nsity of t\n",
      "163 nsity of t -> sity of th\n",
      "164 sity of th -> ity of the\n",
      "165 ity of the -> ty of the \n",
      "166 ty of the  -> y of the s\n",
      "167 y of the s ->  of the se\n",
      "168  of the se -> of the sea\n",
      "169 of the sea -> f the sea.\n"
     ]
    }
   ],
   "source": [
    "# data setting -> 공백 포함 sequence_length인 10개를 한 시퀀스로 입력 데이터를 세팅함\n",
    "x_data = []\n",
    "y_data = []\n",
    "\n",
    "for i in range(0, len(sentence) - sequence_length):\n",
    "    x_str = sentence[i:i + sequence_length]\n",
    "    y_str = sentence[i + 1: i + sequence_length + 1]\n",
    "    print(i, x_str, '->', y_str)\n",
    "\n",
    "    x_data.append([char_dic[c] for c in x_str])  # x str to index\n",
    "    y_data.append([char_dic[c] for c in y_str])  # y str to index\n",
    "\n",
    "x_one_hot = [np.eye(dic_size)[x] for x in x_data]"
   ]
  },
  {
   "cell_type": "code",
   "execution_count": 8,
   "metadata": {},
   "outputs": [],
   "source": [
    "# 텐서 형태로 변환\n",
    "\n",
    "X = torch.FloatTensor(x_one_hot)\n",
    "Y = torch.LongTensor(y_data)"
   ]
  },
  {
   "cell_type": "code",
   "execution_count": 9,
   "metadata": {},
   "outputs": [],
   "source": [
    "# declare RNN + FC\n",
    "class Net(torch.nn.Module):\n",
    "    def __init__(self, input_dim, hidden_dim, layers):\n",
    "        super(Net, self).__init__()\n",
    "        self.rnn = torch.nn.RNN(input_dim, hidden_dim, num_layers=layers, batch_first=True)\n",
    "        self.fc = torch.nn.Linear(hidden_dim, hidden_dim, bias=True)\n",
    "\n",
    "    def forward(self, x):\n",
    "        x, _status = self.rnn(x)\n",
    "        x = self.fc(x)\n",
    "        return x\n",
    "\n",
    "\n",
    "net = Net(dic_size, hidden_size, 2)"
   ]
  },
  {
   "cell_type": "code",
   "execution_count": 10,
   "metadata": {},
   "outputs": [],
   "source": [
    "# loss & optimizer setting\n",
    "criterion = torch.nn.CrossEntropyLoss()\n",
    "optimizer = optim.Adam(net.parameters(), learning_rate)"
   ]
  },
  {
   "cell_type": "code",
   "execution_count": 11,
   "metadata": {},
   "outputs": [
    {
     "name": "stdout",
     "output_type": "stream",
     "text": [
      "mmggmigmggsggtgigmmggggigmmiggmmgiggiiggimgmmmmmmgmigimgmmgmtgmmmgmgmgmmiiggggigmmgigggimmigigmggi.gmimmmgimmsimgigmggimgmmgmigmggigmggiigmgmgimmiimgmgmggmmgimmggimimmigmmgigmgimm\n",
      "aaaooaaoaaaaoaaaaaoaaoaaaaaaaaooaaaoaaaaoaaoaaaoaaaoaaaaoaaoaaoaaaaaaaooaaaoaaaooaaaaoaaaaoaaaoaaoaaaaaaoaaooaaoaaaaaoaaaoaaoaaaaaaaoaaoaaoaaaaooaaaaoaaoaaaaaaoaaaoaaaaaoaaaaoaaaa\n",
      "t t  tu ttttsstssttttstsssstttsstttettsttstsstststtsssttsttssttstsstttsstttstttsstttttstsstttssttstttststttssts ttsttssttsstssttsttsssttsttssetssttssstsstsssttssttsststtsstssttsst\n",
      "n to,bcn e    t,,    otm.      tr  t tmt  to    n r  r    tt  o t     et t    f        mrn   e nt   f t   t tm,     t   t  t   e te   t  tr     o ,    t     f.,     fm t  f     r \n",
      "o     e   e                 e     e   e                                                 e                               e                                                          \n",
      "pnlnp.pa'n..n..ab.nlaala..a.ann.ap.pa.a.a'..n..a..p..an.nnanl.nlba.aa.ay...ab..'..a..an.an..n.nn.nbaanpnn..nnpananllpn...n'ann.n.pn.nn.nl.nnpaba...n.n.an..n.p..n.an..nlanlan.na.a.\n",
      "oolorlooloowlotoslosloslomloiorlorlorloroomorlorloollosloswoswoslorlolloloowoswoloolwosloowoolooloowoswosloolooiwoslooloomltolloowoltotoswoslolwoswolooloowosooloooowooltoitolooiro\n",
      "totoottostottotostostostortontrtostootooooototoottostontontostostostostotootoottdooitonttottoltosohtostostooltostosttotohsetostootosthtohtostostostotootthtostototoottottostostosih\n",
      "mnetnetdstotedtdhthntunetnerdoneontontoddrdrnithstunerderdtunthntuneuetneoetrdtodtdsthnttntthetderdtrhtdnidh thstonetnetnsetueineinerdtohtunto tnetoerdsrdtneidsrtnrtthetdetdeid id\n",
      "mnetn ta trthdtu tuntuaem emdonetntrat dantrn ta trneuderdtaetuetuneeetneaeerato ta trattaetaeratrder i n te te to etn  aa tae aeiaerdt etreeueoaet eua u eu ian tan taetaetaera md\n",
      "m  t  t    te t  te t  e  a ao et am t  a a   t  a  e  er t  t  te    a d     te t  ar tta t  r tr t  t   t  e  d  dt    a t   a ta m t  t  t  a  t  o       t       ta t  ta r  m \n",
      "m  a  t     o t  k  k  '  a kr    ar      t   ar a  t  ar a  t  k     a  o    t  '  ar 'ta to o t  '  t   t     k   o      t   a  a o t  t  a  a  t  o       tr      t  t  t  o    \n",
      "m  a  t     r t  k  ko '    tr    tr      to  '  t  t  tr t  t  k    to       to '  tr ' o to   t  tr kr  tr  o k   o    o t   a t  o t  k  k  o  t  o       ' o     t  t  t  o    \n",
      "i  o  to   to to t  ko '    tr 't to   to to  '  to t  tr t  to ko h to    o  tr 't to 'to to   t  tr bo  tr  o b   o  h o t   h th o t  to ko o  o  o n   o  to  os to t  to o    \n",
      "i  o  to   to to th to  e h tr 't to   to to   o to to 'o to to lo h to  otos to 't to ito to  et  tr bo  to to bo to  h ost   h theo to to lo oh oheo rs tn  to eo  to to toeo  p \n",
      "ioeon to t too o to to  imh tooeo to   toeton 'o to to eo to to lo hito  otos to 't lositoetoeoeto to to  tooeo lo htidhimets  h theo to to lo oh theodositnehwo eosltoeth theo  s \n",
      "ioeon to t toe o lo toa ith donet to   toeton lo to to es to lo eo h toe odos tooet losiwoetoeo toets tod tooeo lo htrdhimeto  h wheostoeto de ohetheodoslohehwoeeoslthethetheodoi \n",
      "ineod tont thelo lo lodhith donethlod  thethn lo do eoseoswo lo eo h thedodod todethlosiwoetoeostoets dod tord, lo htmdh mdton h them to lo de oh themdod hothwmneohitheoh themdhi \n",
      "indod tond th lu lo lu hith donetslodo thethns'e do  td oswo lu lo h thndotod todetslosiwnethemsto ts lod tond, lo htmdhemdton h them to lo le oh themdod eo himneositheoh themdhad\n",
      "rnd o to d th lu lo ao hith aon't lodo th thrp'e do  ts rsto lu lo h th   trd tonetslosign them to ts aod tone, lo humd em ton h them to lo lu or themdod er himnemsitheoh themdhau\n",
      "rn  o to d torlu ao aoahiah aon't ardo th thrp'e ao  ts osto lu lo h tor  trd aon't losign them to k, aod aon , ao luat em to  h them to le l  or themdod er himn msitoeod themd as\n",
      "rn  o to k toalt ao aoahiah ao 't ao o to thrp'e ao  ts o to lo lo h tor  aod aoa't aosig  them to k, aod aon , ao luathem to  h them to le l  or toemtod er  imn msitoeod themt tp\n",
      "tn  o to k tonlt ao aoahiph ao 't ao o to thnp'e ao  t eo to lo le h tor  aod aoa't aosig  them to ks aod aon , ao lu them to chithem to lo l  or toemtod e   imnemsitoeod themp cp\n",
      "tm  o tork to lt ao aoahiph aon't ao o to thnp'e ao  tser to lo le h toa  aod aoa't aosign them to ks aod aork, ao l athem to chithem to lo l ior themtod e s imneosith to themt as\n",
      "rmn o tork to lt ao aothiph aon't ar o to thnp'e to  tser to lo le h tor  aod aon't dosign them to k, aod aork, bo etathem to ch them to lo l ior themtod e s imneositheoh themt as\n",
      "rmnlo tort to lt lo aothiph don't dreo to thnp'e to  tser to lo lech tor  aod aon't dosign them to ks aod aork, bu etathem torch them to lo l ior themtod e s imnemsitheoh themt rs\n",
      "rmnlo tort to lu bo aothiph don't dreo to phmple to ether to lo lech tor  dod won't dssign them to ks aod work, bu eoathem torch them to lo l for themeodle seimnemsitheoh themt re\n",
      "rmnlo tort to lu bo aothip, don't drem to pemplenth ether to lo lech wor  wsd won't dssign them to ks aod work, bu erathem torch them to lo l for themeodlesseimnemsith oa theme rn\n",
      "rmnlo tort to lu bo aothip, don't drsm to penple to  ther to lo luch wor  wsd won't dssign them to ks aod work, bucerathem to ch them to lo l for themtodless imnemsity oa themt r \n",
      "rm oo tort to lu lo aothip, don't drsm tp penple to  ther to lo lech wor  asd won't dssign them to ks aod work, bu erathem to ch them to lo l for themtodless immensity oa themt r \n",
      "rmnoo aort to lu lo aothip, don't drsm tp penple to  ther to lo luch tor  asd won't dssign them to ks aod aork, bu erathem to ch them to lo g for themtod ess immensity oy themt rp\n",
      "rmnoo aort to cu do aothip, don't drum tp people to  ther to co de h wor  asd aon't dssign them to ks aod aork, bu grathem torch them to co g for themtod ess immensity oa themt s \n",
      "rmtoo aont to cu lo aoship, don't drum tp peosle to  ther to co lect wor  aod aon't dssign them to ks aod aork, bu grathem terch them to lo g for themtod ess immensity oa theme d \n",
      "rmtoo aont to lu lo aoship, don't drum tp peosle to ether to lo lect tore and aon't dssign them to ks aod aork, bucgrathem terch ther to lo g for thertod ess immensity oa there d \n",
      "rnnoo aont to lu lo aoship, don't drum tp people together to lo lect wore and aon't dssign them to ks aod aork, bucgrathem terch them to lonl for themtnd ess immensity of thert dt\n",
      " nnoo wont to lu le aoship, don't drum up people together to lo lect word and don't dssign them to ks and work, bucgrathem terch them to lonl for themtnd ess immensity of thert ds\n",
      " nnoo wont to lu ld anship, don't drum up people together to lo lect wood and won't dssign them to ks and work, buchrather terch them to long for themtnd ess immensity of themt cs\n",
      " ntou wont to luile asship, don't drum up people together te co lect wood and won't dssign them to ks and work, buchrather tench them to long for themendless immensity of these as\n",
      " ntou wont to luild anship, don't drum up people together to lo lect wood and won't dssign them to ks and work, buc rather tench them to long for themsndless immensity of thess r \n",
      " ntor wont to build anship, don't drum up people together to lo lect wood and won't dssign them to ks and work, buc rather te ch them to bong for themendless immensity of the s c \n",
      " nsor wont to build asship, don't drum up people together to lollect wood and don't dssign them to ks and work, but rather terch them to bong for themendless immensity of the s as\n",
      " nsor wont to build asship, don't drum up people together to collect wood and don't dssign them to ks and work, but rather terch them to bong for the sndless immensity of the s ip\n",
      " nsor wont to build asship, don't drum up people together to collect wood and don't dssign them to ks and dork, but rathem terch them to bong for the endless immensity of the s sp\n",
      " nsou wont to build anship, don't drum up people together to collect wood and don't dssign them to ks and dork, but rather terch them to bong for the endless immensity of the e as\n",
      " nhou wont to build anship, don't drum up people together to collect wood and don't dssign them to ks and work, but ruthe etench them to bong for the endless immensity of the s sp\n",
      " nsou wont to build anship, don't arum up people together to collect wood and don't dssign them tonks and work, but rather tench them to bong for the endless immensity of the s ss\n"
     ]
    },
    {
     "name": "stdout",
     "output_type": "stream",
     "text": [
      " nsou wont to build anship, don't drum up people together to collect wood and don't dssign them tonks and work, but rather tench them to cong for the endless immensity of the s as\n",
      " nsou wont to build asship, don't drum up people together to collect wood and don't dssign them tonks and work, but rather teach them to long for the endless immensity of the s at\n",
      " nsou wont to build anship, don't drum up people together to collect wood and don't dssign them to ks and work, but rather teach them to long for the endless immensity of the s ap\n",
      " nyou wont to build anship, don't drum up people together to collect wood and don't dssign them tosks and work, but rather teach them to long for the endless immensity of the smas\n",
      " nyou wont to build a ship, don't drum up people together to collect wood and don't dssign them tosks and work, but rather teach them to cong for the endless immensity of the t c \n",
      " nyou wont to build a ship, don't drum up people together to collect wood and don't dssign them tosks and work, but rather teach them to cong for the endless immensity of the t c \n",
      " myou wont to build a ship, don't drum up people together to collect wood and don't dssign them tosks and work, but rather teach them to cong for the endless immensity of the s a \n",
      " myou wont to build a ship, don't drum up people together to collect wood and don't dssign them tosks and work, but rather teach them to cong for the endless immensity of the s as\n",
      " nyou wont to build a ship, don't drum up people together to collect wood and don't dssign them tosks and work, but rather teach them to cong for the endless immensity of the s ap\n",
      " nyou wont to build a ship, don't drum up people together to collect wood and don't dssign them tosks and work, but rather teach them to cong for the endless immensity of the s as\n",
      "rnyou wont to build a ship, don't drum up people together to collect wood and don't dssign them tosks and work, but rather teach them to cong for the endless immensity of the shap\n",
      "rnyou wont to build a ship, don't drum up people together to collect wood and don't dssign them tosks and work, but rather teach them to cong for the endless immensity of the seap\n",
      "rmyou want to build a ship, don't drum up people together to collect wood and don't dssign them tasks and work, but rather teach them to cong for the endless immensity of the s as\n",
      " myou want to build a ship, don't arum up people together to collect wood and don't assign them tasks and work, but rather teach them to cong for the endless immensity of the s ap\n",
      " myou want to build a ship, don't drum up people together to collect wood and don't dssign them tasks and work, but rather teach them to cong for the endless immensity of the seap\n",
      " myou want to build a ship, don't drum up people together to collect wood and don't dssign them tasks and work, but rather teach them to cong for the endless immensity of the seap\n",
      "tmyou want to build a ship, don't drum up people together to collect wood and don't dssign them tasks and work, but rather teach them to cong for the endless immensity of the seap\n",
      "tmyou want to build a ship, don't drum up people together to collect wood and don't dssign them tasks and work, but rather teach them to cong for the endless immensity of the seap\n",
      "tmyou want to build a ship, don't drum up people together to collect wood and don't dssign them tasks and work, but rather teach them to cong for the endless immensity of the seap\n",
      "tmyou want to build a ship, don't drum up people together to collect wood and don't assign them tasks and work, but rather teach them to cong for the endless immensity of the sea \n",
      "tmyou want to build a ship, don't arum up people together to collect wood and don't assign them tasks and work, but rather teach them to cong for the endless immensity of the seas\n",
      "tmyou want to build a ship, don't drum up people together to collect wood and don't assign them tosks and work, but rather teach them to cong for the endless immensity of the sea \n",
      "tmyou want to build a ship, don't drum up people together to collect wood and don't assign them tasks and work, but rather teach them to cong for the endless immensity of the sea \n",
      "tmyou want to build a ship, don't drum up people together to collect wood and don't assign them tasks and work, but rather teach them to cong for the endless immensity of the sea \n",
      "tmyou want to build a ship, don't drum up people together to collect wood and don't assign them tosks and work, but rather teach them to cong for the endless immensity of the sea \n",
      "tmyou want to build a ship, don't drum up people together to collect wood and don't assign them tasks and work, but rather teach them to cong for the endless immensity of the sea \n",
      "tmyou want to build a ship, don't drum up people together to collect wood and don't assign them tasks and work, but rather teach them to cong for the endless immensity of the sea \n",
      "lmyou want to build a ship, don't drum up people together to collect wood and don't assign them tasks and work, but rather teach them to long for the endless immensity of the sea \n",
      "lmyou want to build a ship, don't drum up people together to collect wood and don't assign them tasks and work, but rather teach them to long for the endless immensity of the sea \n",
      "tnyou want to build a ship, don't drum up people together to collect wood and don't assign them tasks and work, but rather teach them to long for the endless immensity of the sea.\n",
      "lnyou want to build a ship, don't drum up people together to collect wood and don't assign them tasks and work, but rather teach them to long for the endless immensity of the sea.\n",
      "pnyou want to build a ship, don't drum up people together to collect wood and don't assign them tasks and work, but rather teach them to cong for the endless immensity of the sea.\n",
      "lnyou want to build a ship, don't drum up people together to collect wood and don't assign them tasks and work, but rather teach them to cong for the endless immensity of the sea.\n",
      "lnyou want to build a ship, don't drum up people together to collect wood and don't assign them tasks and work, but rather teach them to long for the endless immensity of the sea.\n",
      "lnyou want to build a ship, don't drum up people together to collect wood and don't assign them tasks and work, but rather teach them to long for the endless immensity of the sea.\n",
      "mmyou want to build a ship, don't drum up people together to collect wood and don't assign them tasks and work, but rather teach them to long for the endless immensity of the sea.\n",
      "tnyou want to build a ship, don't drum up people together to collect wood and don't assign them tasks and work, but rather teach them to long for the endless immensity of the sea.\n",
      "tmyou want to build a ship, don't drum up people together to collect wood and don't assign them tasks and work, but rather teach them to long for the endless immensity of the sea.\n",
      "lmyou want to build a ship, don't drum up people together to collect wood and don't assign them tasks and work, but rather teach them to long for the endless immensity of the sea.\n",
      "tmyou want to build a ship, don't drum up people together to collect wood and don't assign them tasks and work, but rather teach them to long for the endless immensity of the sea.\n",
      "tmyou want to build a ship, don't drum up people together to collect wood and don't assign them tasks and work, but rather teach them to long for the endless immensity of the sea.\n",
      "tmyou want to build a ship, don't drum up people together to collect wood and don't assign them tasks and work, but rather teach them to long for the endless immensity of the sea.\n",
      "tmyou want to build a ship, don't drum up people together to collect wood and don't assign them tasks and work, but rather teach them to long for the endless immensity of the sea.\n",
      "tnyou want to build a ship, don't drum up people together to collect wood and don't assign them tasks and work, but rather teach them to long for the endless immensity of the sea.\n",
      "lnyou want to build a ship, don't drum up people together to collect wood and don't assign them tasks and work, but rather teach them to long for the endless immensity of the sea.\n",
      "mmyou want to build a ship, don't drum up people together to collect wood and don't assign them tasks and work, but rather teach them to long for the endless immensity of the sea.\n",
      "tmyou want to build a ship, don't drum up people together to collect wood and don't assign them tasks and work, but rather teach them to long for the endless immensity of the sea.\n",
      "tnyou want to build a ship, don't drum up people together to collect wood and don't assign them tasks and work, but rather teach them to bong for the endless immensity of the sea.\n",
      "tnyou want to build a ship, don't drum up people together to collect wood and don't assign them tasks and work, but rather teach them to cong for the endless immensity of the sea.\n"
     ]
    },
    {
     "name": "stdout",
     "output_type": "stream",
     "text": [
      "lnyou want to build a ship, don't drum up people together to collect wood and don't assign them tasks and work, but rather teach them to long for the endless immensity of the sea.\n",
      "lmyou want to build a ship, don't drum up people together to collect wood and don't assign them tasks and work, but rather teach them to bong for the endless immensity of the sea.\n",
      "lnyou want to build a ship, don't drum up people together to collect wood and don't assign them tasks and work, but rather teach them to long for the endless immensity of the sea.\n",
      "l you want to build a ship, don't drum up people together to collect wood and don't assign them tasks and work, but rather teach them to long for the endless immensity of the sea.\n",
      "lnyou want to build a ship, don't drum up people together to collect wood and don't assign them tasks and work, but rather teach them to long for the endless immensity of the sea.\n"
     ]
    }
   ],
   "source": [
    "# start training\n",
    "for i in range(100):\n",
    "    optimizer.zero_grad()\n",
    "    outputs = net(X)\n",
    "    loss = criterion(outputs.view(-1, dic_size), Y.view(-1))\n",
    "    loss.backward()\n",
    "    optimizer.step()\n",
    "\n",
    "    results = outputs.argmax(dim=2) # 170raws 10 columns\n",
    "    predict_str = \"\"\n",
    "    for j, result in enumerate(results):\n",
    "        # print(i, j, ''.join([char_set[t] for t in result]), loss.item())\n",
    "        if j == 0:\n",
    "            predict_str += ''.join([char_set[t] for t in result]) # 예측 문자들을 출력하기 위해 predict_str 생성\n",
    "        else:\n",
    "            predict_str += char_set[result[-1]]\n",
    "\n",
    "    print(predict_str)"
   ]
  },
  {
   "cell_type": "code",
   "execution_count": 12,
   "metadata": {},
   "outputs": [
    {
     "name": "stdout",
     "output_type": "stream",
     "text": [
      "원문: if you want to build a ship, don't drum up people together to collect wood and don't assign them tasks and work, but rather teach them to long for the endless immensity of the sea.\n",
      "\n",
      "예측값: lnyou want to build a ship, don't drum up people together to collect wood and don't assign them tasks and work, but rather teach them to long for the endless immensity of the sea.\n"
     ]
    }
   ],
   "source": [
    "print(\"원문:\",sentence)\n",
    "\n",
    "print(\"\\n예측값:\",predict_str)"
   ]
  }
 ],
 "metadata": {
  "kernelspec": {
   "display_name": "Python 3",
   "language": "python",
   "name": "python3"
  },
  "language_info": {
   "codemirror_mode": {
    "name": "ipython",
    "version": 3
   },
   "file_extension": ".py",
   "mimetype": "text/x-python",
   "name": "python",
   "nbconvert_exporter": "python",
   "pygments_lexer": "ipython3",
   "version": "3.7.7"
  }
 },
 "nbformat": 4,
 "nbformat_minor": 2
}
